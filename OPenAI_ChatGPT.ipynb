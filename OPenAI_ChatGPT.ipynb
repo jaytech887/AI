## Install OPenAI Package
%pip install openai
